{
 "cells": [
  {
   "cell_type": "markdown",
   "metadata": {},
   "source": [
    "# Kpop Data Analysis\n",
    "## -- by Charlie Chengrui Zheng\n",
    "Kpop refers to the music genre and its idol industry originated in South Korea. Unlike other music genres having blurry origin and developed gradually in today's form, Kpop has an actual birthday when **Seo Taiji and Boys** debuted on 1992-03-23. After less than 30 years of development, Kpop obtains worldwide popularity among youth today. I gathered data of Kpop from 1992-03-23 (the birthday of Kpop) to 2021-01-11 including information of all major Kpop idols from [K-Pop Database](https://dbkpop.com/). In this article, I will investigate Kpop by analyzing the 4 tables in this dataset:\n",
    "<ol>\n",
    "    <li>all Kpop idols</li>\n",
    "    <li>all Kpop boy groups</li>\n",
    "    <li>all Kpop girl groups</li>\n",
    "    <li>all Kpop music videos</li>\n",
    "</ol>\n",
    "Music videos are great metrics to analyze because they are usually made for Kpop singers' hit songs, also known as 'debut' and 'comeback'. Note that the information of Seo Taiji and Boys are not recorded in first 2 tables because whether they were too different from all other Kpop idols.\n",
    "\n",
    "## General\n",
    "By 2021-01-11, when the data was collected, 4146 music videos were produced. There are 1435 Kpop idols in total. It is quite stunning that Kpop has been developing for less than 30 years, but has already attracted such a great number of artists to join this industry. Kpop has always been famous for group activities. Among all idols, 1318 of them (92%) are or has been a member of a Kpop group, only 117 of them (8%) has always been soloists. 48% of them are female. 52% of them are male. There has been 176 male groups and also 176 female groups. 134 boy groups and 94 girl groups are active now. Here is a small peek of the table of all idols:"
   ]
  },
  {
   "cell_type": "code",
   "execution_count": 1,
   "metadata": {},
   "outputs": [
    {
     "name": "stdout",
     "output_type": "stream",
     "text": [
      "1318 artist are or have been in Kpop group\n",
      "134 boy groups are active\n",
      "94 girl groups are active\n"
     ]
    },
    {
     "data": {
      "text/html": [
       "<div>\n",
       "<style scoped>\n",
       "    .dataframe tbody tr th:only-of-type {\n",
       "        vertical-align: middle;\n",
       "    }\n",
       "\n",
       "    .dataframe tbody tr th {\n",
       "        vertical-align: top;\n",
       "    }\n",
       "\n",
       "    .dataframe thead th {\n",
       "        text-align: right;\n",
       "    }\n",
       "</style>\n",
       "<table border=\"1\" class=\"dataframe\">\n",
       "  <thead>\n",
       "    <tr style=\"text-align: right;\">\n",
       "      <th></th>\n",
       "      <th>Stage Name</th>\n",
       "      <th>Full Name</th>\n",
       "      <th>Date of Birth</th>\n",
       "      <th>Group</th>\n",
       "      <th>Country</th>\n",
       "      <th>Birthplace</th>\n",
       "      <th>Other Group</th>\n",
       "      <th>Gender</th>\n",
       "      <th>Birth Year</th>\n",
       "      <th>Age</th>\n",
       "    </tr>\n",
       "  </thead>\n",
       "  <tbody>\n",
       "    <tr>\n",
       "      <th>0</th>\n",
       "      <td>A.M</td>\n",
       "      <td>Seong Hyunwoo</td>\n",
       "      <td>12/31/96</td>\n",
       "      <td>Limitless</td>\n",
       "      <td>South Korea</td>\n",
       "      <td>NaN</td>\n",
       "      <td>NaN</td>\n",
       "      <td>M</td>\n",
       "      <td>1996</td>\n",
       "      <td>25</td>\n",
       "    </tr>\n",
       "    <tr>\n",
       "      <th>1</th>\n",
       "      <td>Ace</td>\n",
       "      <td>Jang Wooyoung</td>\n",
       "      <td>8/28/92</td>\n",
       "      <td>VAV</td>\n",
       "      <td>South Korea</td>\n",
       "      <td>NaN</td>\n",
       "      <td>NaN</td>\n",
       "      <td>M</td>\n",
       "      <td>1992</td>\n",
       "      <td>29</td>\n",
       "    </tr>\n",
       "    <tr>\n",
       "      <th>2</th>\n",
       "      <td>Aeji</td>\n",
       "      <td>Kwon Aeji</td>\n",
       "      <td>10/25/99</td>\n",
       "      <td>Hashtag</td>\n",
       "      <td>South Korea</td>\n",
       "      <td>Daegu</td>\n",
       "      <td>NaN</td>\n",
       "      <td>F</td>\n",
       "      <td>1999</td>\n",
       "      <td>22</td>\n",
       "    </tr>\n",
       "    <tr>\n",
       "      <th>3</th>\n",
       "      <td>AhIn</td>\n",
       "      <td>Lee Ahin</td>\n",
       "      <td>9/27/99</td>\n",
       "      <td>MOMOLAND</td>\n",
       "      <td>South Korea</td>\n",
       "      <td>Wonju</td>\n",
       "      <td>NaN</td>\n",
       "      <td>F</td>\n",
       "      <td>1999</td>\n",
       "      <td>22</td>\n",
       "    </tr>\n",
       "    <tr>\n",
       "      <th>4</th>\n",
       "      <td>Ahra</td>\n",
       "      <td>Go Ahra</td>\n",
       "      <td>2/21/01</td>\n",
       "      <td>Favorite</td>\n",
       "      <td>South Korea</td>\n",
       "      <td>Yeosu</td>\n",
       "      <td>NaN</td>\n",
       "      <td>F</td>\n",
       "      <td>2001</td>\n",
       "      <td>20</td>\n",
       "    </tr>\n",
       "  </tbody>\n",
       "</table>\n",
       "</div>"
      ],
      "text/plain": [
       "  Stage Name      Full Name Date of Birth      Group      Country Birthplace  \\\n",
       "0        A.M  Seong Hyunwoo      12/31/96  Limitless  South Korea        NaN   \n",
       "1        Ace  Jang Wooyoung       8/28/92        VAV  South Korea        NaN   \n",
       "2       Aeji      Kwon Aeji      10/25/99    Hashtag  South Korea      Daegu   \n",
       "3       AhIn       Lee Ahin       9/27/99   MOMOLAND  South Korea      Wonju   \n",
       "4       Ahra        Go Ahra       2/21/01   Favorite  South Korea      Yeosu   \n",
       "\n",
       "  Other Group Gender  Birth Year  Age  \n",
       "0         NaN      M        1996   25  \n",
       "1         NaN      M        1992   29  \n",
       "2         NaN      F        1999   22  \n",
       "3         NaN      F        1999   22  \n",
       "4         NaN      F        2001   20  "
      ]
     },
     "execution_count": 1,
     "metadata": {},
     "output_type": "execute_result"
    }
   ],
   "source": [
    "import pandas as pd\n",
    "import numpy as np\n",
    "from matplotlib import pyplot as plt\n",
    "\n",
    "def year_clean(df, col1_name, col2_name):\n",
    "    year_cleaned = []\n",
    "    for _, row in df.iterrows():\n",
    "        if row[col1_name][-2] in ['0','1','2']:\n",
    "            year_cleaned.append(2000 + int(row[col1_name][-2:]))\n",
    "        else:\n",
    "            year_cleaned.append(1900 + int(row[col1_name][-2:]))\n",
    "    df[col2_name] = year_cleaned\n",
    "    return df\n",
    "\n",
    "# creating dataframes and data cleaning\n",
    "idols = year_clean(pd.read_csv('kpop_idols.csv'), 'Date of Birth', 'Birth Year')\n",
    "boys = pd.read_csv('kpop_idols_boy_groups.csv')\n",
    "girls = pd.read_csv('kpop_idols_girl_groups.csv')\n",
    "all_groups = year_clean(pd.concat([boys, girls]),'Debut','Debut Year')\n",
    "\n",
    "# calculating ages of idols\n",
    "age = [2021-row['Birth Year'] for _, row in idols.iterrows()]\n",
    "idols['Age'] = age\n",
    "print(f'{idols.count().Group} artist are or have been in Kpop group')\n",
    "boy_active = boys.groupby('Active').count()['Name'].loc['Yes']\n",
    "girl_active = girls.groupby('Active').count()['Name'].loc['Yes']\n",
    "print(f'{boy_active} boy groups are active')\n",
    "print(f'{girl_active} girl groups are active')\n",
    "idols.head(5)"
   ]
  },
  {
   "cell_type": "markdown",
   "metadata": {},
   "source": [
    "## International Artists\n",
    "Kpop is well-known for its internationality, 124 idols (9%) are not from South Korea, but from 12 other countries and states. Notably, there are 42 artists from China (mainland) now. There are also 38 Japanese artists and 14 American artists (Korean-Americans are not included in this dataset)."
   ]
  },
  {
   "cell_type": "code",
   "execution_count": 2,
   "metadata": {},
   "outputs": [
    {
     "data": {
      "image/png": "[encoded data removed]",
      "text/plain": [
       "<Figure size 720x360 with 1 Axes>"
      ]
     },
     "metadata": {
      "needs_background": "light"
     },
     "output_type": "display_data"
    },
    {
     "data": {
      "text/html": [
       "<div>\n",
       "<style scoped>\n",
       "    .dataframe tbody tr th:only-of-type {\n",
       "        vertical-align: middle;\n",
       "    }\n",
       "\n",
       "    .dataframe tbody tr th {\n",
       "        vertical-align: top;\n",
       "    }\n",
       "\n",
       "    .dataframe thead th {\n",
       "        text-align: right;\n",
       "    }\n",
       "</style>\n",
       "<table border=\"1\" class=\"dataframe\">\n",
       "  <thead>\n",
       "    <tr style=\"text-align: right;\">\n",
       "      <th></th>\n",
       "      <th>Country</th>\n",
       "      <th>count</th>\n",
       "    </tr>\n",
       "  </thead>\n",
       "  <tbody>\n",
       "    <tr>\n",
       "      <th>0</th>\n",
       "      <td>China</td>\n",
       "      <td>42</td>\n",
       "    </tr>\n",
       "    <tr>\n",
       "      <th>1</th>\n",
       "      <td>Japan</td>\n",
       "      <td>38</td>\n",
       "    </tr>\n",
       "    <tr>\n",
       "      <th>2</th>\n",
       "      <td>USA</td>\n",
       "      <td>14</td>\n",
       "    </tr>\n",
       "    <tr>\n",
       "      <th>3</th>\n",
       "      <td>Taiwan</td>\n",
       "      <td>7</td>\n",
       "    </tr>\n",
       "    <tr>\n",
       "      <th>4</th>\n",
       "      <td>Thailand</td>\n",
       "      <td>7</td>\n",
       "    </tr>\n",
       "    <tr>\n",
       "      <th>5</th>\n",
       "      <td>Canada</td>\n",
       "      <td>6</td>\n",
       "    </tr>\n",
       "    <tr>\n",
       "      <th>6</th>\n",
       "      <td>Hong Kong</td>\n",
       "      <td>4</td>\n",
       "    </tr>\n",
       "    <tr>\n",
       "      <th>7</th>\n",
       "      <td>Indonesia</td>\n",
       "      <td>2</td>\n",
       "    </tr>\n",
       "    <tr>\n",
       "      <th>8</th>\n",
       "      <td>Australia</td>\n",
       "      <td>1</td>\n",
       "    </tr>\n",
       "    <tr>\n",
       "      <th>9</th>\n",
       "      <td>Germany</td>\n",
       "      <td>1</td>\n",
       "    </tr>\n",
       "    <tr>\n",
       "      <th>10</th>\n",
       "      <td>Malaysia</td>\n",
       "      <td>1</td>\n",
       "    </tr>\n",
       "    <tr>\n",
       "      <th>11</th>\n",
       "      <td>Philippines</td>\n",
       "      <td>1</td>\n",
       "    </tr>\n",
       "  </tbody>\n",
       "</table>\n",
       "</div>"
      ],
      "text/plain": [
       "        Country  count\n",
       "0         China     42\n",
       "1         Japan     38\n",
       "2           USA     14\n",
       "3        Taiwan      7\n",
       "4      Thailand      7\n",
       "5        Canada      6\n",
       "6     Hong Kong      4\n",
       "7     Indonesia      2\n",
       "8     Australia      1\n",
       "9       Germany      1\n",
       "10     Malaysia      1\n",
       "11  Philippines      1"
      ]
     },
     "execution_count": 2,
     "metadata": {},
     "output_type": "execute_result"
    }
   ],
   "source": [
    "foreign = idols.groupby('Country')['Stage Name'].count().reset_index(name='count')\\\n",
    ".sort_values(['count'],ascending=False).iloc[1:]\n",
    "foreign.plot.bar(x='Country',title='Foreign Kpop Artists', rot=45, figsize=(10,5))\n",
    "plt.show()\n",
    "foreign.reset_index(drop=True, inplace=True)\n",
    "foreign"
   ]
  },
  {
   "cell_type": "markdown",
   "metadata": {},
   "source": [
    "## Age\n",
    "Kpop Artists are famous for showing their youthful charisma. Kpop idols are generally young. The average age of all Kpop idols is 25, as for 2021."
   ]
  },
  {
   "cell_type": "code",
   "execution_count": 3,
   "metadata": {},
   "outputs": [
    {
     "name": "stdout",
     "output_type": "stream",
     "text": [
      "The average age of Kpop idols is 25\n"
     ]
    },
    {
     "data": {
      "image/png": "[encoded data removed]",
      "text/plain": [
       "<Figure size 720x360 with 1 Axes>"
      ]
     },
     "metadata": {
      "needs_background": "light"
     },
     "output_type": "display_data"
    }
   ],
   "source": [
    "age = idols.groupby('Age')['Stage Name'].count()\n",
    "print(f'The average age of Kpop idols is {int(np.mean(idols.Age))}')\n",
    "age.plot.bar(title='Age of Kpop Artists',rot=0, figsize=(10,5))\n",
    "plt.show()"
   ]
  },
  {
   "cell_type": "markdown",
   "metadata": {},
   "source": [
    "On the other hand, Kpop idols usually debut in even younger age. The average age of a newly debuted Kpop group members is 19. The youngest idols, such as IZ\\*ONE's Wonyoung and Shinee's Taemin, debuted are only 14 years old."
   ]
  },
  {
   "cell_type": "code",
   "execution_count": 4,
   "metadata": {},
   "outputs": [
    {
     "name": "stdout",
     "output_type": "stream",
     "text": [
      "The average age of a newly debuted Kpop group is 19\n"
     ]
    },
    {
     "data": {
      "image/png": "[encoded data removed]",
      "text/plain": [
       "<Figure size 720x360 with 1 Axes>"
      ]
     },
     "metadata": {
      "needs_background": "light"
     },
     "output_type": "display_data"
    }
   ],
   "source": [
    "from collections import Counter, defaultdict\n",
    "def debut_age(df):\n",
    "    age = []\n",
    "    checked = []\n",
    "    for _, group in df.iterrows():\n",
    "        for index, idol in idols.iterrows():\n",
    "            if index not in checked and idol.Group == group.Name:\n",
    "                checked.append(index)\n",
    "                debut = group['Debut Year'] - idol['Birth Year']\n",
    "                # I calculate the debut age by minus group debut year from idols' birth year\n",
    "                # However, this may not work sometimes when young idols were added to the group\n",
    "                # after the group already debut\n",
    "                # Therefore, I set the minimum debut age as 14, which is already known\n",
    "                if debut > 13:\n",
    "                    age.append(debut)\n",
    "    return age\n",
    "\n",
    "debut_age_list = debut_age(all_groups)\n",
    "debut_age_list.sort()\n",
    "print(f'The average age of a newly debuted Kpop group is {int(np.mean(debut_age_list))}')\n",
    "age_count = pd.DataFrame({'age': debut_age_list}).groupby('age', as_index=False).size()\n",
    "age_count.plot.bar(x='age',y='size',title='The debut Age of Kpop idols',rot=0, figsize=(10,5))\n",
    "plt.show()"
   ]
  },
  {
   "cell_type": "markdown",
   "metadata": {},
   "source": [
    "## Timeline\n",
    "Kpop's fast development is epitomized by the timeline of music videos by year, and the timeline of group debuts by year. Especially, Kpop groups can be divided into generations. There are lot of opinions about how to divide the generations. Here, I will be showing only one of those opinions:\n",
    "<ul>\n",
    "    <li>0th Generation 1992 - 1995: This was the time when <b>Seo Taiji and Boys</b> were building the fundamentals of Kpop industry. In 'Music Videos by Year', they were the only artists who were releasing music videos, about 1 or 2 every year. There were no other group debut in this era.\n",
    "    <li>1st Generation 1996 - 2003: This was the time when the agency <b>SM Entertainment</b> trained their own artists and gathered them to form the first Kpop group <b>H.O.T.</b>, and kept managing their group activities. This kind system was adopted by other agencies and became the major charaterstics of Kpop industry. Kpop became popular in South Korea domestically. We can see that during late 1990s, there were several group debuts. But this number decreased in early 2000s because the 1st Generation Kpop group fell apart. Soloist activities were more popular. The exemplar groups in the 1st Generation are <b>H.O.T.</b> and <b>S.E.S.</b>\n",
    "    <li>2nd Generation 2004 - 2011:This was the time when Kpop groups became popular again and expanded their markets to other Asian countries.<b>TVXQ!</b>'s debut and its great success in Korea and Japan marked the start of this generation. 2nd Generation groups also started to have foreign members onboard, starting with <b>Super Juniors</b>' Chinese member <b>Han Geng</b>. We can see from the barplots that both the numbers of group debuts and music videos began soaring from 2004. Kpop's development began skyrocketing since this generation. The exemplar groups in the 2nd Generation are <b>TVXQ!, Super Juniors, BIGBANG</b> and <b>Girls' Generation</b>.\n",
    "    <li>3rd Generation 2011 - :This was the time when Kpop groups became more popular internationally. In 2012, <b>PSY's Gangnam Style</b> became a global hit. It brought light to Kpop not just in Asia, but also in Western world. 3rd Generation groups began obtaining popularity globally. They also take advantage of social networks and survival shows to promote themselves. We can see from the barplots that both the numbers of group debuts and music videos keep soaring. The examplar groups in the 3rd Generation are <b>EXO, TWICE, BLACKPINK</b> and <b>BTS</b>.\n",
    "</ul>\n",
    "Now, whether the 4th generation started or not is still disputed. Some opinions state that the 4th generation started in recent years. Other opinions also argue that there are already 5 generations."
   ]
  },
  {
   "cell_type": "code",
   "execution_count": 5,
   "metadata": {},
   "outputs": [
    {
     "data": {
      "image/png": "[encoded data removed]",
      "text/plain": [
       "<Figure size 720x360 with 1 Axes>"
      ]
     },
     "metadata": {
      "needs_background": "light"
     },
     "output_type": "display_data"
    },
    {
     "data": {
      "image/png": "[encoded data removed]",
      "text/plain": [
       "<Figure size 720x360 with 1 Axes>"
      ]
     },
     "metadata": {
      "needs_background": "light"
     },
     "output_type": "display_data"
    }
   ],
   "source": [
    "def timeline(df, title_name, column, include_zero):\n",
    "    zero_gen = list(range(1992,1996))\n",
    "    first_gen = list(range(1996,2004))\n",
    "    second_gen = list(range(2004,2012))\n",
    "    third_gen = list(range(2012,2021))\n",
    "    \n",
    "    generations = [zero_gen, first_gen, second_gen, third_gen]\n",
    "    colors = ['gray','blue','orange','red']\n",
    "\n",
    "    if include_zero == False:\n",
    "        generations = generations[1:]\n",
    "        colors = colors[1:]\n",
    "    counters = []\n",
    "    \n",
    "    for years in generations:\n",
    "        value_by_year = Counter()\n",
    "        for _, row in df.iterrows():    \n",
    "            for year in years:\n",
    "                if row[column] == year:\n",
    "                    value_by_year[year] += 1\n",
    "        counters.append(value_by_year)   \n",
    "                    \n",
    "    fig = plt.figure(figsize=(10,5))\n",
    "    ax = fig.add_axes([0,0,1,1])\n",
    "    all_year = []\n",
    "    for gen_color, years, counter in zip(colors, generations, counters):\n",
    "        ax.bar(years, [counter[year] for year in years], color=gen_color)\n",
    "        all_year += years\n",
    "    plt.xticks(all_year)\n",
    "    plt.xticks(rotation = 45)\n",
    "    plt.title(title_name)\n",
    "    plt.show()\n",
    "\n",
    "mv = year_clean(pd.read_csv('kpop_music_videos.csv'),'Date','Year')\n",
    "timeline(mv, \"Music Videos by Year\", 'Year', True)\n",
    "timeline(all_groups, \"group debuts by Year\", 'Debut Year', False)"
   ]
  },
  {
   "cell_type": "markdown",
   "metadata": {},
   "source": [
    "## Agency\n",
    "Kpop entertainment companies play significant role in this industry. These agencies recruit artists as trainees, select excellent trainees to form groups and manage their activities after they debut. Every Kpop agency manages 1.6 groups on average. Big companies like <b>SM Entertainment</b> can have up to 15 groups. Here are the 10 agencies which have most groups."
   ]
  },
  {
   "cell_type": "code",
   "execution_count": 6,
   "metadata": {},
   "outputs": [
    {
     "name": "stdout",
     "output_type": "stream",
     "text": [
      "Every Kpop agency manages 1.6 groups on average\n"
     ]
    },
    {
     "data": {
      "image/png": "[encoded data removed]",
      "text/plain": [
       "<Figure size 720x360 with 1 Axes>"
      ]
     },
     "metadata": {
      "needs_background": "light"
     },
     "output_type": "display_data"
    },
    {
     "name": "stdout",
     "output_type": "stream",
     "text": [
      "The 10 companies having most groups are:\n"
     ]
    },
    {
     "data": {
      "text/html": [
       "<div>\n",
       "<style scoped>\n",
       "    .dataframe tbody tr th:only-of-type {\n",
       "        vertical-align: middle;\n",
       "    }\n",
       "\n",
       "    .dataframe tbody tr th {\n",
       "        vertical-align: top;\n",
       "    }\n",
       "\n",
       "    .dataframe thead th {\n",
       "        text-align: right;\n",
       "    }\n",
       "</style>\n",
       "<table border=\"1\" class=\"dataframe\">\n",
       "  <thead>\n",
       "    <tr style=\"text-align: right;\">\n",
       "      <th></th>\n",
       "      <th>Company</th>\n",
       "      <th>Groups</th>\n",
       "      <th>Group count</th>\n",
       "    </tr>\n",
       "  </thead>\n",
       "  <tbody>\n",
       "    <tr>\n",
       "      <th>0</th>\n",
       "      <td>SM</td>\n",
       "      <td>[EXO, Fly to the Sky, H.O.T, NCT, SHINee, Shin...</td>\n",
       "      <td>15</td>\n",
       "    </tr>\n",
       "    <tr>\n",
       "      <th>1</th>\n",
       "      <td>JYP</td>\n",
       "      <td>[2AM, 2PM, DAY6, g.o.d., GOT7, Stray Kids, 15&amp;...</td>\n",
       "      <td>11</td>\n",
       "    </tr>\n",
       "    <tr>\n",
       "      <th>2</th>\n",
       "      <td>FNC</td>\n",
       "      <td>[CNBLUE, FTISLAND, Honeyst, N.Flying, P1Harmon...</td>\n",
       "      <td>8</td>\n",
       "    </tr>\n",
       "    <tr>\n",
       "      <th>3</th>\n",
       "      <td>YG</td>\n",
       "      <td>[BIGBANG, iKON, SECHKIES, Treasure, WINNER, 2N...</td>\n",
       "      <td>7</td>\n",
       "    </tr>\n",
       "    <tr>\n",
       "      <th>4</th>\n",
       "      <td>MBK</td>\n",
       "      <td>[1the9, Speed, Turbo, DIA, F-ve Dolls, T-ara]</td>\n",
       "      <td>6</td>\n",
       "    </tr>\n",
       "    <tr>\n",
       "      <th>5</th>\n",
       "      <td>Big Hit</td>\n",
       "      <td>[2AM, 8Eight, BTS, Homme, TXT, GLAM]</td>\n",
       "      <td>6</td>\n",
       "    </tr>\n",
       "    <tr>\n",
       "      <th>6</th>\n",
       "      <td>DSP</td>\n",
       "      <td>[A-JAX, SECHKIES, SS501, April, KARA, Rainbow]</td>\n",
       "      <td>6</td>\n",
       "    </tr>\n",
       "    <tr>\n",
       "      <th>7</th>\n",
       "      <td>Starship</td>\n",
       "      <td>[Boyfriend, CRAVITY, MONSTA X, SISTAR, WJSN]</td>\n",
       "      <td>5</td>\n",
       "    </tr>\n",
       "    <tr>\n",
       "      <th>8</th>\n",
       "      <td>Cube</td>\n",
       "      <td>[BtoB, PENTAGON, (G)I-DLE, 4Minute, CLC]</td>\n",
       "      <td>5</td>\n",
       "    </tr>\n",
       "    <tr>\n",
       "      <th>9</th>\n",
       "      <td>Woollim</td>\n",
       "      <td>[DRIPPIN, Golden Child, Infinite, Lovelyz, Roc...</td>\n",
       "      <td>5</td>\n",
       "    </tr>\n",
       "  </tbody>\n",
       "</table>\n",
       "</div>"
      ],
      "text/plain": [
       "    Company                                             Groups  Group count\n",
       "0        SM  [EXO, Fly to the Sky, H.O.T, NCT, SHINee, Shin...           15\n",
       "1       JYP  [2AM, 2PM, DAY6, g.o.d., GOT7, Stray Kids, 15&...           11\n",
       "2       FNC  [CNBLUE, FTISLAND, Honeyst, N.Flying, P1Harmon...            8\n",
       "3        YG  [BIGBANG, iKON, SECHKIES, Treasure, WINNER, 2N...            7\n",
       "4       MBK      [1the9, Speed, Turbo, DIA, F-ve Dolls, T-ara]            6\n",
       "5   Big Hit               [2AM, 8Eight, BTS, Homme, TXT, GLAM]            6\n",
       "6       DSP     [A-JAX, SECHKIES, SS501, April, KARA, Rainbow]            6\n",
       "7  Starship       [Boyfriend, CRAVITY, MONSTA X, SISTAR, WJSN]            5\n",
       "8      Cube           [BtoB, PENTAGON, (G)I-DLE, 4Minute, CLC]            5\n",
       "9   Woollim  [DRIPPIN, Golden Child, Infinite, Lovelyz, Roc...            5"
      ]
     },
     "execution_count": 6,
     "metadata": {},
     "output_type": "execute_result"
    }
   ],
   "source": [
    "agency = defaultdict(list)\n",
    "for _, row in all_groups.iterrows():\n",
    "    if isinstance(row.Company, str):\n",
    "        for company in row.Company.split(','):\n",
    "            agency[company.strip()].append(row.Name)\n",
    "companies = list(agency.keys())\n",
    "group_counts = [len(groups) for groups in agency.values()]\n",
    "agency_df = pd.DataFrame({'Company':companies,\"Groups\":agency.values(),\"Group count\":group_counts})\n",
    "avg_group = round(agency_df['Group count'].mean(),1)\n",
    "print(f'Every Kpop agency manages {avg_group} groups on average')\n",
    "big10 = agency_df.sort_values(by='Group count',ascending=False).head(10)\n",
    "big10.plot.bar(x='Company',y='Group count',title='The 10 Companies Having Most Groups',rot=0, figsize=(10,5))\n",
    "plt.show()\n",
    "print(f'The 10 companies having most groups are:')\n",
    "big10.reset_index(drop=True, inplace=True)\n",
    "big10"
   ]
  },
  {
   "cell_type": "markdown",
   "metadata": {},
   "source": [
    "## Group Members\n",
    "On average, Kpop groups have 5.5 members. 5-member group is the most common form. However, maintaining the team is not easy. 90 groups, about 25%, have lost group members."
   ]
  },
  {
   "cell_type": "code",
   "execution_count": 7,
   "metadata": {},
   "outputs": [
    {
     "name": "stdout",
     "output_type": "stream",
     "text": [
      "Kpop groups have 5.5 members on average\n",
      "90 groups, about 25%, have lost group members\n"
     ]
    },
    {
     "data": {
      "image/png": "[encoded data removed]",
      "text/plain": [
       "<Figure size 720x360 with 1 Axes>"
      ]
     },
     "metadata": {
      "needs_background": "light"
     },
     "output_type": "display_data"
    }
   ],
   "source": [
    "all_groups.astype({'Orig. Memb.': 'int32','Members': 'int32'}).dtypes\n",
    "print(f'Kpop groups have {round(all_groups.Members.mean(),1)} members on average')\n",
    "\n",
    "loss = 0\n",
    "for _, row in all_groups.iterrows():\n",
    "    if row['Orig. Memb.'] - row['Members'] > 0:\n",
    "        loss += 1\n",
    "print(f'{loss} groups, about {int(100*loss/len(all_groups))}%, have lost group members')\n",
    "\n",
    "member_count = all_groups.groupby('Members', as_index=False).size().iloc[1:]\n",
    "member_count.plot.bar(x='Members',y='size',title='Number of Members in Kpop Groups',rot=0, figsize=(10,5))\n",
    "plt.show()"
   ]
  },
  {
   "cell_type": "markdown",
   "metadata": {},
   "source": [
    "## Fanclub\n",
    "Kpop's success largely depends on the devotion of their fans. Kpop groups are famous for making official fanclubs for their devoted fans and organize events within those fanclubs, such as <b>BTS</b>' fanclub <b>ARMY</b>. 41% of the boy groups have their fanclubs. 30% of the boy groups have their fanclubs. The data shows that boy groups gained more fans' devotion than girl groups."
   ]
  },
  {
   "cell_type": "code",
   "execution_count": 8,
   "metadata": {},
   "outputs": [
    {
     "name": "stdout",
     "output_type": "stream",
     "text": [
      "36% of the boy groups have names for their fanclubs. 27% of the boy groups have names for their fanclubs.\n"
     ]
    }
   ],
   "source": [
    "print(f'{int(100*boys[\"Fanclub Name\"].count()/boys.shape[0])}% of the boy groups have names for their fanclubs. {int(100*girls[\"Fanclub Name\"].count()/girls.shape[0])}% of the boy groups have names for their fanclubs.')"
   ]
  }
 ],
 "metadata": {
  "kernelspec": {
   "display_name": "Python 3",
   "language": "python",
   "name": "python3"
  },
  "language_info": {
   "codemirror_mode": {
    "name": "ipython",
    "version": 3
   },
   "file_extension": ".py",
   "mimetype": "text/x-python",
   "name": "python",
   "nbconvert_exporter": "python",
   "pygments_lexer": "ipython3",
   "version": "3.9.0"
  }
 },
 "nbformat": 4,
 "nbformat_minor": 4
}
