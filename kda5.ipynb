{
 "cells": [
  {
   "cell_type": "markdown",
   "metadata": {},
   "source": [
    "# Analysis of Kpop Music Video on YouTube\n",
    "As Kpop becomes increasingly international, YouTube plays a pivotal roles as the digital platforms for Kpop idols to share their music video to the audience all over the world. The view count is a key metrics reflecting the music videos' international popularity. I extracted the data of all Kpop music videos from Kpop Database and scraped the view counts of all 4262 music videos from YouTube by 04/05/2021. Note that the music videos here are only the official releases, but do not contain performance version, dance practice and any other unofficial releases. After data cleaning, there are 4092 music videos in total with their view count scraped. Here is my analysis of Kpop Music Video on YouTube."
   ]
  },
  {
   "cell_type": "code",
   "execution_count": 28,
   "metadata": {},
   "outputs": [
    {
     "data": {
      "text/plain": [
       "4092"
      ]
     },
     "execution_count": 28,
     "metadata": {},
     "output_type": "execute_result"
    }
   ],
   "source": [
    "import pandas as pd\n",
    "import requests\n",
    "from bs4 import BeautifulSoup\n",
    "\n",
    "df = pd.read_csv('kpop_music_videos.csv')\n",
    "df.Date = pd.to_datetime(df.Date)\n",
    "df[\"Views\"]=None\n",
    "for i, row in df.iterrows():\n",
    "    df.at[i,\"Artist\"] = row.Artist.upper()\n",
    "    try:\n",
    "        df.at[i,\"Views\"] = BeautifulSoup(requests.get(row.Video).text, 'lxml').select_one('meta[itemprop=\"interactionCount\"][content]')['content']\n",
    "    except:\n",
    "        df.at[i,\"Views\"] = 0\n",
    "df.to_csv(\"mv_views_040521.csv\")\n",
    "df.Date = pd.to_datetime(df.Date)\n",
    "df.Views = df.Views.astype(int)\n",
    "df = df[df.Views!=0]\n",
    "df.shape[0]"
   ]
  },
  {
   "cell_type": "markdown",
   "metadata": {},
   "source": [
    "## Timeline of Kpop on YouTube"
   ]
  },
  {
   "cell_type": "code",
   "execution_count": 198,
   "metadata": {},
   "outputs": [
    {
     "data": {
      "image/png": "[encoded data removed]",
      "text/plain": [
       "<Figure size 1152x576 with 1 Axes>"
      ]
     },
     "metadata": {
      "needs_background": "light"
     },
     "output_type": "display_data"
    }
   ],
   "source": [
    "df.groupby(df.Date.dt.year).Views.sum().plot.bar(title = \"Timeline of Kpop music video views on YouTube\",ylabel=\"100 billion views\")"
   ]
  },
  {
   "cell_type": "markdown",
   "metadata": {},
   "source": [
    "From the chart above, we can see that from 1992, when Kpop started, to 2005; Kpop music videos have few views on YouTube. This is because YouTube was launched in 2006. The music videos before YouTube's start was only aired on TV then and re-uploaded to YouTube later. As I mentioned in [Pt.1 of Kpop Data Analysis](https://charliezcr.github.io/kda.html), the number of music videos by year started soaring from 2nd Generation Kpop. After 2006, the views of music videos also grows rapidly as the number of music videos increases, and also because the Internet and Kpop becomes more popular. After 2017, the view count gradually became steady."
   ]
  },
  {
   "cell_type": "markdown",
   "metadata": {},
   "source": [
    "## Top Charts"
   ]
  },
  {
   "cell_type": "code",
   "execution_count": 59,
   "metadata": {
    "scrolled": true
   },
   "outputs": [
    {
     "data": {
      "text/html": [
       "<div>\n",
       "<style scoped>\n",
       "    .dataframe tbody tr th:only-of-type {\n",
       "        vertical-align: middle;\n",
       "    }\n",
       "\n",
       "    .dataframe tbody tr th {\n",
       "        vertical-align: top;\n",
       "    }\n",
       "\n",
       "    .dataframe thead th {\n",
       "        text-align: right;\n",
       "    }\n",
       "</style>\n",
       "<table border=\"1\" class=\"dataframe\">\n",
       "  <thead>\n",
       "    <tr style=\"text-align: right;\">\n",
       "      <th></th>\n",
       "      <th>Date</th>\n",
       "      <th>Artist</th>\n",
       "      <th>Song Name</th>\n",
       "      <th>Video</th>\n",
       "      <th>Type</th>\n",
       "      <th>Release</th>\n",
       "      <th>Views</th>\n",
       "    </tr>\n",
       "  </thead>\n",
       "  <tbody>\n",
       "    <tr>\n",
       "      <th>1397</th>\n",
       "      <td>2018-06-15</td>\n",
       "      <td>BLACKPINK</td>\n",
       "      <td>Ddu Du Ddu Du</td>\n",
       "      <td>https://youtu.be/IHNzOHi8sJs</td>\n",
       "      <td>Girl</td>\n",
       "      <td>Major</td>\n",
       "      <td>1542676991</td>\n",
       "    </tr>\n",
       "    <tr>\n",
       "      <th>1016</th>\n",
       "      <td>2019-04-04</td>\n",
       "      <td>BLACKPINK</td>\n",
       "      <td>Kill This Love</td>\n",
       "      <td>https://youtu.be/2S24-y0Ij3Y</td>\n",
       "      <td>Girl</td>\n",
       "      <td>Major</td>\n",
       "      <td>1258052660</td>\n",
       "    </tr>\n",
       "    <tr>\n",
       "      <th>1784</th>\n",
       "      <td>2017-09-18</td>\n",
       "      <td>BTS</td>\n",
       "      <td>DNA</td>\n",
       "      <td>https://youtu.be/MBdVXkSdhwU</td>\n",
       "      <td>Boy</td>\n",
       "      <td>Major</td>\n",
       "      <td>1240871015</td>\n",
       "    </tr>\n",
       "    <tr>\n",
       "      <th>1003</th>\n",
       "      <td>2019-04-12</td>\n",
       "      <td>BTS</td>\n",
       "      <td>Boy With Luv feat. Halsey</td>\n",
       "      <td>https://youtu.be/XsX3ATc3FbA</td>\n",
       "      <td>Boy</td>\n",
       "      <td>Major</td>\n",
       "      <td>1190165794</td>\n",
       "    </tr>\n",
       "    <tr>\n",
       "      <th>2290</th>\n",
       "      <td>2016-08-08</td>\n",
       "      <td>BLACKPINK</td>\n",
       "      <td>BOOMBAYAH</td>\n",
       "      <td>https://youtu.be/bwmSjveL3Lc</td>\n",
       "      <td>Girl</td>\n",
       "      <td>Major</td>\n",
       "      <td>1152800763</td>\n",
       "    </tr>\n",
       "    <tr>\n",
       "      <th>1910</th>\n",
       "      <td>2017-06-22</td>\n",
       "      <td>BLACKPINK</td>\n",
       "      <td>As If It's Your Last</td>\n",
       "      <td>https://youtu.be/Amq-qlqbjYA</td>\n",
       "      <td>Girl</td>\n",
       "      <td>Major</td>\n",
       "      <td>988750103</td>\n",
       "    </tr>\n",
       "    <tr>\n",
       "      <th>322</th>\n",
       "      <td>2020-08-21</td>\n",
       "      <td>BTS</td>\n",
       "      <td>Dynamite</td>\n",
       "      <td>https://youtu.be/gdZLi9oWNZg</td>\n",
       "      <td>Boy</td>\n",
       "      <td>English</td>\n",
       "      <td>982668564</td>\n",
       "    </tr>\n",
       "    <tr>\n",
       "      <th>1438</th>\n",
       "      <td>2018-05-18</td>\n",
       "      <td>BTS</td>\n",
       "      <td>Fake Love</td>\n",
       "      <td>https://youtu.be/7C2z4GqqS5E</td>\n",
       "      <td>Boy</td>\n",
       "      <td>Major</td>\n",
       "      <td>898540568</td>\n",
       "    </tr>\n",
       "    <tr>\n",
       "      <th>1690</th>\n",
       "      <td>2017-11-24</td>\n",
       "      <td>BTS</td>\n",
       "      <td>Mic Drop (Steve Aoki Remix)</td>\n",
       "      <td>https://youtu.be/kTlv5_Bs8aw</td>\n",
       "      <td>Boy</td>\n",
       "      <td>Major</td>\n",
       "      <td>895391546</td>\n",
       "    </tr>\n",
       "    <tr>\n",
       "      <th>1307</th>\n",
       "      <td>2018-08-24</td>\n",
       "      <td>BTS</td>\n",
       "      <td>Idol</td>\n",
       "      <td>https://youtu.be/pBuZEGYXA6E</td>\n",
       "      <td>Boy</td>\n",
       "      <td>Major</td>\n",
       "      <td>885615347</td>\n",
       "    </tr>\n",
       "  </tbody>\n",
       "</table>\n",
       "</div>"
      ],
      "text/plain": [
       "           Date     Artist                    Song Name  \\\n",
       "1397 2018-06-15  BLACKPINK                Ddu Du Ddu Du   \n",
       "1016 2019-04-04  BLACKPINK               Kill This Love   \n",
       "1784 2017-09-18        BTS                          DNA   \n",
       "1003 2019-04-12        BTS    Boy With Luv feat. Halsey   \n",
       "2290 2016-08-08  BLACKPINK                    BOOMBAYAH   \n",
       "1910 2017-06-22  BLACKPINK         As If It's Your Last   \n",
       "322  2020-08-21        BTS                     Dynamite   \n",
       "1438 2018-05-18        BTS                    Fake Love   \n",
       "1690 2017-11-24        BTS  Mic Drop (Steve Aoki Remix)   \n",
       "1307 2018-08-24        BTS                         Idol   \n",
       "\n",
       "                             Video  Type  Release       Views  \n",
       "1397  https://youtu.be/IHNzOHi8sJs  Girl    Major  1542676991  \n",
       "1016  https://youtu.be/2S24-y0Ij3Y  Girl    Major  1258052660  \n",
       "1784  https://youtu.be/MBdVXkSdhwU   Boy    Major  1240871015  \n",
       "1003  https://youtu.be/XsX3ATc3FbA   Boy    Major  1190165794  \n",
       "2290  https://youtu.be/bwmSjveL3Lc  Girl    Major  1152800763  \n",
       "1910  https://youtu.be/Amq-qlqbjYA  Girl    Major   988750103  \n",
       "322   https://youtu.be/gdZLi9oWNZg   Boy  English   982668564  \n",
       "1438  https://youtu.be/7C2z4GqqS5E   Boy    Major   898540568  \n",
       "1690  https://youtu.be/kTlv5_Bs8aw   Boy    Major   895391546  \n",
       "1307  https://youtu.be/pBuZEGYXA6E   Boy    Major   885615347  "
      ]
     },
     "execution_count": 59,
     "metadata": {},
     "output_type": "execute_result"
    }
   ],
   "source": [
    "df.sort_values(by=['Views'],ascending=False).head(10)"
   ]
  },
  {
   "cell_type": "code",
   "execution_count": 61,
   "metadata": {},
   "outputs": [
    {
     "data": {
      "text/plain": [
       "161"
      ]
     },
     "execution_count": 61,
     "metadata": {},
     "output_type": "execute_result"
    }
   ],
   "source": [
    "#100 million+ views\n",
    "df[df.Views>100000000].shape[0]"
   ]
  },
  {
   "cell_type": "code",
   "execution_count": 62,
   "metadata": {},
   "outputs": [
    {
     "data": {
      "text/plain": [
       "1116"
      ]
     },
     "execution_count": 62,
     "metadata": {},
     "output_type": "execute_result"
    }
   ],
   "source": [
    "#10 million+ views\n",
    "df[df.Views>10000000].shape[0]"
   ]
  },
  {
   "cell_type": "markdown",
   "metadata": {},
   "source": [
    "As we can see from the view counts of individual music videos, there are 5 music videos attracted more than 1 billion views. Besides, there are 161 videos with 100 million+ views, 1116 videos with 10 million+ views. The Kpop music video with the most views is BLACKPINK's *Ddu Du Ddu Du*, with 1.5 billion views. Congratulations BLACKPINK! \n",
    "\n",
    "For the TOP 10 music videos with most views, they either from BLACKPINK or BTS. They are all released from 2016 to 2020. For the TOP 20, 19 of them are from BTS and BLACKPINK. BTS and BLACKPINK are YouTube's favorite Kpop stars!\n",
    "\n",
    "These staggering number shows the great popularity of Kpop on YouTube. However, it still lags behind Western pop music. For example, Justin Bieber's *Sorry* has 3.4 billion views. The most viewed music video on YouTube is *Despacito*, with 7.2 billion views."
   ]
  },
  {
   "cell_type": "code",
   "execution_count": 67,
   "metadata": {},
   "outputs": [
    {
     "data": {
      "text/plain": [
       "Artist\n",
       "BTS                  12913443302\n",
       "BLACKPINK             8237816130\n",
       "TWICE                 5972095898\n",
       "EXO                   3233536172\n",
       "BIGBANG               3217412163\n",
       "GIRLS' GENERATION     2320520992\n",
       "RED VELVET            2052927896\n",
       "GOT7                  2034093867\n",
       "SUPER JUNIOR          1401823237\n",
       "IKON                  1183243079\n",
       "Name: Views, dtype: int64"
      ]
     },
     "execution_count": 67,
     "metadata": {},
     "output_type": "execute_result"
    }
   ],
   "source": [
    "df.groupby(df.Artist)['Views'].sum().sort_values(ascending=False).head(10)"
   ]
  },
  {
   "cell_type": "code",
   "execution_count": 200,
   "metadata": {},
   "outputs": [
    {
     "data": {
      "image/png": "[encoded data removed]",
      "text/plain": [
       "<Figure size 1152x576 with 1 Axes>"
      ]
     },
     "metadata": {
      "needs_background": "light"
     },
     "output_type": "display_data"
    }
   ],
   "source": [
    "df.groupby(df.Artist)['Views'].sum().sort_values(ascending=False).head(10).plot.bar(rot=0,title=\"TOP 10 Kpop artists with most music video views on YouTube\",ylabel=\"10 billion views\")"
   ]
  },
  {
   "cell_type": "markdown",
   "metadata": {},
   "source": [
    "Here are the TOP 10 Kpop artists with most music video views on YouTube. They are BTS, BLACKPINK, TWICE, EXO, BIGBANG, Girls' Generation, Red Velvet, GOT7, Super Junior, and IKON. BTS has more than 10 billion views in total. All of them have more than 1 billion views in total.\n",
    "\n",
    "BTS and BlACKPINK's success on YouTube reflects their massive amount of international fans and audience. These 2 groups always value worldwide audience. Their music is not like traditional Kpop, but like Western pop, hip-hop and edm music. Compared with other success Kpop groups, BTS and BLACKPINK are popular not just in East Asia, but also in Western world. For No.3 and No.4, TWICE and EXO are also famous internationally. However, their target international markets are not so worldwide as BTS and BLACKPINK. TWICE's target is mainly Japan, while EXO targeting at China (where YouTube is not available). Their music are more localized for their target market, resulting in fewer audience on YouTube. For No.5 and No.6, BIGBANG and Girls' Generation, they were also popular internationally but they were 2nd Gen Kpop groups active before 2015. The popularity of Kpop and Internet were not so strong then.\n",
    "\n",
    "## Music Videos in Japanese"
   ]
  },
  {
   "cell_type": "code",
   "execution_count": 197,
   "metadata": {},
   "outputs": [
    {
     "data": {
      "text/html": [
       "<div>\n",
       "<style scoped>\n",
       "    .dataframe tbody tr th:only-of-type {\n",
       "        vertical-align: middle;\n",
       "    }\n",
       "\n",
       "    .dataframe tbody tr th {\n",
       "        vertical-align: top;\n",
       "    }\n",
       "\n",
       "    .dataframe thead th {\n",
       "        text-align: right;\n",
       "    }\n",
       "</style>\n",
       "<table border=\"1\" class=\"dataframe\">\n",
       "  <thead>\n",
       "    <tr style=\"text-align: right;\">\n",
       "      <th></th>\n",
       "      <th></th>\n",
       "      <th></th>\n",
       "      <th>Views</th>\n",
       "    </tr>\n",
       "    <tr>\n",
       "      <th>Date</th>\n",
       "      <th>Artist</th>\n",
       "      <th>Song Name</th>\n",
       "      <th></th>\n",
       "    </tr>\n",
       "  </thead>\n",
       "  <tbody>\n",
       "    <tr>\n",
       "      <th>2006</th>\n",
       "      <th>SHINHWA</th>\n",
       "      <th>In our heart there is the sun</th>\n",
       "      <td>104568</td>\n",
       "    </tr>\n",
       "    <tr>\n",
       "      <th rowspan=\"4\" valign=\"top\">2008</th>\n",
       "      <th rowspan=\"3\" valign=\"top\">BIGBANG</th>\n",
       "      <th>How Gee</th>\n",
       "      <td>4496139</td>\n",
       "    </tr>\n",
       "    <tr>\n",
       "      <th>Number 1</th>\n",
       "      <td>6454891</td>\n",
       "    </tr>\n",
       "    <tr>\n",
       "      <th>With You</th>\n",
       "      <td>10354166</td>\n",
       "    </tr>\n",
       "    <tr>\n",
       "      <th>FTISLAND</th>\n",
       "      <th>Friendship</th>\n",
       "      <td>194957</td>\n",
       "    </tr>\n",
       "    <tr>\n",
       "      <th>...</th>\n",
       "      <th>...</th>\n",
       "      <th>...</th>\n",
       "      <td>...</td>\n",
       "    </tr>\n",
       "    <tr>\n",
       "      <th rowspan=\"5\" valign=\"top\">2021</th>\n",
       "      <th rowspan=\"4\" valign=\"top\">TREASURE</th>\n",
       "      <th>Beautiful</th>\n",
       "      <td>4197685</td>\n",
       "    </tr>\n",
       "    <tr>\n",
       "      <th>I LOVE YOU (Japanese Ver.)</th>\n",
       "      <td>1774690</td>\n",
       "    </tr>\n",
       "    <tr>\n",
       "      <th>MMM (Japanese Ver.)</th>\n",
       "      <td>1408879</td>\n",
       "    </tr>\n",
       "    <tr>\n",
       "      <th>MY TREASURE (Japanese Ver.)</th>\n",
       "      <td>1083653</td>\n",
       "    </tr>\n",
       "    <tr>\n",
       "      <th>TXT</th>\n",
       "      <th>Blue Hour Japanese Ver.</th>\n",
       "      <td>5258324</td>\n",
       "    </tr>\n",
       "  </tbody>\n",
       "</table>\n",
       "<p>354 rows × 1 columns</p>\n",
       "</div>"
      ],
      "text/plain": [
       "                                                Views\n",
       "Date Artist   Song Name                              \n",
       "2006 SHINHWA  In our heart there is the sun    104568\n",
       "2008 BIGBANG  How Gee                         4496139\n",
       "              Number 1                        6454891\n",
       "              With You                       10354166\n",
       "     FTISLAND Friendship                       194957\n",
       "...                                               ...\n",
       "2021 TREASURE Beautiful                       4197685\n",
       "              I LOVE YOU (Japanese Ver.)      1774690\n",
       "              MMM (Japanese Ver.)             1408879\n",
       "              MY TREASURE (Japanese Ver.)     1083653\n",
       "     TXT      Blue Hour Japanese Ver.         5258324\n",
       "\n",
       "[354 rows x 1 columns]"
      ]
     },
     "execution_count": 197,
     "metadata": {},
     "output_type": "execute_result"
    }
   ],
   "source": [
    "japanese = df[df.Release==\"Japanese\"].groupby([df.Date.dt.year,\"Artist\",\"Song Name\"]).sum()\n",
    "japanese"
   ]
  },
  {
   "cell_type": "code",
   "execution_count": 201,
   "metadata": {},
   "outputs": [
    {
     "data": {
      "image/png": "[encoded data removed]",
      "text/plain": [
       "<Figure size 1152x576 with 1 Axes>"
      ]
     },
     "metadata": {
      "needs_background": "light"
     },
     "output_type": "display_data"
    }
   ],
   "source": [
    "df[df.Release==\"Japanese\"].groupby(df.Date.dt.year).sum().plot.bar(title = \"Timeline of Japanese Kpop music video\",ylabel=\"100 million views\",rot=0)"
   ]
  },
  {
   "cell_type": "code",
   "execution_count": 185,
   "metadata": {},
   "outputs": [
    {
     "data": {
      "text/html": [
       "<div>\n",
       "<style scoped>\n",
       "    .dataframe tbody tr th:only-of-type {\n",
       "        vertical-align: middle;\n",
       "    }\n",
       "\n",
       "    .dataframe tbody tr th {\n",
       "        vertical-align: top;\n",
       "    }\n",
       "\n",
       "    .dataframe thead th {\n",
       "        text-align: right;\n",
       "    }\n",
       "</style>\n",
       "<table border=\"1\" class=\"dataframe\">\n",
       "  <thead>\n",
       "    <tr style=\"text-align: right;\">\n",
       "      <th></th>\n",
       "      <th>Views</th>\n",
       "    </tr>\n",
       "    <tr>\n",
       "      <th>Artist</th>\n",
       "      <th></th>\n",
       "    </tr>\n",
       "  </thead>\n",
       "  <tbody>\n",
       "    <tr>\n",
       "      <th>TWICE</th>\n",
       "      <td>724877954</td>\n",
       "    </tr>\n",
       "    <tr>\n",
       "      <th>GIRLS' GENERATION</th>\n",
       "      <td>479146733</td>\n",
       "    </tr>\n",
       "    <tr>\n",
       "      <th>BTS</th>\n",
       "      <td>337028561</td>\n",
       "    </tr>\n",
       "    <tr>\n",
       "      <th>BIGBANG</th>\n",
       "      <td>242617411</td>\n",
       "    </tr>\n",
       "    <tr>\n",
       "      <th>GOT7</th>\n",
       "      <td>107250026</td>\n",
       "    </tr>\n",
       "    <tr>\n",
       "      <th>NIZIU</th>\n",
       "      <td>90819520</td>\n",
       "    </tr>\n",
       "    <tr>\n",
       "      <th>SEVENTEEN</th>\n",
       "      <td>72712511</td>\n",
       "    </tr>\n",
       "    <tr>\n",
       "      <th>IZ*ONE</th>\n",
       "      <td>68416177</td>\n",
       "    </tr>\n",
       "    <tr>\n",
       "      <th>SHINEE</th>\n",
       "      <td>66170835</td>\n",
       "    </tr>\n",
       "    <tr>\n",
       "      <th>RED VELVET</th>\n",
       "      <td>56635721</td>\n",
       "    </tr>\n",
       "  </tbody>\n",
       "</table>\n",
       "</div>"
      ],
      "text/plain": [
       "                       Views\n",
       "Artist                      \n",
       "TWICE              724877954\n",
       "GIRLS' GENERATION  479146733\n",
       "BTS                337028561\n",
       "BIGBANG            242617411\n",
       "GOT7               107250026\n",
       "NIZIU               90819520\n",
       "SEVENTEEN           72712511\n",
       "IZ*ONE              68416177\n",
       "SHINEE              66170835\n",
       "RED VELVET          56635721"
      ]
     },
     "execution_count": 185,
     "metadata": {},
     "output_type": "execute_result"
    }
   ],
   "source": [
    "top10jp = japanese.groupby([\"Artist\"]).sum().sort_values(by=\"Views\", ascending=False).head(10)\n",
    "top10jp"
   ]
  },
  {
   "cell_type": "markdown",
   "metadata": {},
   "source": [
    "Kpop has a long history of making Japanese songs and music videos. Sometimes Kpop idols translate their Korean songs into Japanese and sometimes they just make brand new Japanese songs. There are 354 Japanese Kpop music videos on YouTube. 91 groups have released Japanese music videos on YouTube. Among them, the Top 10 most viewed groups are TWICE, Girls' Generation, BTS, BIGBANG, GOT7, NiziU, Seventeen, IZ\\*ONE, SHINEE and Red Velvet. Note that there are also a lot of Kpop idols release their songs in Japanese but do not make music videos for them, but they are also successful in Japan.\n",
    "\n",
    "Kpop started making music videos in Japanese since 2006, and attracted great amount of views from 2009 to 2013, thanks to the successful 2nd Gen Kpop groups like Girls' Generation and BIGBANG. \n",
    "\n",
    "However, the views started declining significantly since 2013 and reached a saddle point from 2014 to 2016. This is probably caused by the political conflicts between Korea and Japan, also because 2nd Gen Kpop groups who used to be popular in Japan became inactive. Kpop also suffered from its loss of Japanese market.\n",
    "\n",
    "But in 2017, Kpop rised again in Japan as 3rd Gen Kpop groups reintroduces Kpop to Japan. The views of their music videos soared and achieved greater success than the peak of 2nd Gen Kpop groups. These 3rd Gen Kpop groups adopted even more localization strategies than before, such as TWICE, IZ\\*ONE and NiziU.\n",
    "\n",
    "For example, JYP entertainment's girl group TWICE has 3 Japanese member in this 9-member group. Compared with 2nd Gen Kpop groups, TWICE achieved even greater success in Japan because they have so many Japanese members in the crew.\n",
    "\n",
    "In 2018, CJ E&M's reality show *Produce 48* produced the group IZ\\*ONE. The group has 3 Japanese members in this 12-member group. Unlike TWICE's Japanese members, who are trained by JYP Enternment as Kpop idols in Korea. IZ\\*ONE's Japanese members are active Jpop idols from AKB48, a famous series of Jpop idol groups. IZ\\*ONE's Japanese activities are also managed by the producer of AKB48. They are even more localized as they combined Jpop and Kpop together. Because of the great success of *Produce 48*, CJ E&M even sold this show to Japan and let Japanese produce their own groups in their *Produce 101* shows.\n",
    "\n",
    "In 2020, JYP entertainment debuted its first localized Japanese Kpop group NiziU through their reality show, according to their \"Globalization + Localization\" strategy. NiziU's genre is Kpop, and they are managed in a Kpop way; but their members are all Japanese and their songs are all in Japanese. Therefore, I predict that there will be more localized Japanese Kpop groups and greater localization in future for Kpop's development in Japan.\n",
    "\n",
    "## Music Videos in English"
   ]
  },
  {
   "cell_type": "code",
   "execution_count": 203,
   "metadata": {},
   "outputs": [
    {
     "data": {
      "text/html": [
       "<div>\n",
       "<style scoped>\n",
       "    .dataframe tbody tr th:only-of-type {\n",
       "        vertical-align: middle;\n",
       "    }\n",
       "\n",
       "    .dataframe tbody tr th {\n",
       "        vertical-align: top;\n",
       "    }\n",
       "\n",
       "    .dataframe thead th {\n",
       "        text-align: right;\n",
       "    }\n",
       "</style>\n",
       "<table border=\"1\" class=\"dataframe\">\n",
       "  <thead>\n",
       "    <tr style=\"text-align: right;\">\n",
       "      <th></th>\n",
       "      <th></th>\n",
       "      <th></th>\n",
       "      <th>Views</th>\n",
       "    </tr>\n",
       "    <tr>\n",
       "      <th>Date</th>\n",
       "      <th>Artist</th>\n",
       "      <th>Song Name</th>\n",
       "      <th></th>\n",
       "    </tr>\n",
       "  </thead>\n",
       "  <tbody>\n",
       "    <tr>\n",
       "      <th>2009</th>\n",
       "      <th>WONDER GIRLS</th>\n",
       "      <th>Nobody</th>\n",
       "      <td>100808977</td>\n",
       "    </tr>\n",
       "    <tr>\n",
       "      <th>2010</th>\n",
       "      <th>WONDER GIRLS</th>\n",
       "      <th>2 Different Tears</th>\n",
       "      <td>3502611</td>\n",
       "    </tr>\n",
       "    <tr>\n",
       "      <th rowspan=\"2\" valign=\"top\">2012</th>\n",
       "      <th rowspan=\"2\" valign=\"top\">WONDER GIRLS</th>\n",
       "      <th>Like Money ft. Akon</th>\n",
       "      <td>14364266</td>\n",
       "    </tr>\n",
       "    <tr>\n",
       "      <th>The DJ Is Mine</th>\n",
       "      <td>7698326</td>\n",
       "    </tr>\n",
       "    <tr>\n",
       "      <th>2014</th>\n",
       "      <th>SPICA</th>\n",
       "      <th>I Did It</th>\n",
       "      <td>1852354</td>\n",
       "    </tr>\n",
       "    <tr>\n",
       "      <th>2015</th>\n",
       "      <th>GIRLS' GENERATION-TTS</th>\n",
       "      <th>Dear Santa (English ver.)</th>\n",
       "      <td>7080590</td>\n",
       "    </tr>\n",
       "    <tr>\n",
       "      <th>2017</th>\n",
       "      <th>KARD</th>\n",
       "      <th>Don't Recall (Hidden ver.)</th>\n",
       "      <td>7144374</td>\n",
       "    </tr>\n",
       "    <tr>\n",
       "      <th rowspan=\"3\" valign=\"top\">2018</th>\n",
       "      <th>HENRY</th>\n",
       "      <th>Monster</th>\n",
       "      <td>5164403</td>\n",
       "    </tr>\n",
       "    <tr>\n",
       "      <th>MINZY</th>\n",
       "      <th>All Of You Say</th>\n",
       "      <td>859464</td>\n",
       "    </tr>\n",
       "    <tr>\n",
       "      <th>NCT 127</th>\n",
       "      <th>Regular (English ver.)</th>\n",
       "      <td>66966579</td>\n",
       "    </tr>\n",
       "    <tr>\n",
       "      <th rowspan=\"6\" valign=\"top\">2019</th>\n",
       "      <th rowspan=\"2\" valign=\"top\">MONSTA X</th>\n",
       "      <th>Someone's Someone</th>\n",
       "      <td>23183802</td>\n",
       "    </tr>\n",
       "    <tr>\n",
       "      <th>Who Do U Love feat. French Montana</th>\n",
       "      <td>37174451</td>\n",
       "    </tr>\n",
       "    <tr>\n",
       "      <th>NCT 127</th>\n",
       "      <th>Highway To Heaven</th>\n",
       "      <td>35193166</td>\n",
       "    </tr>\n",
       "    <tr>\n",
       "      <th>SAN (HOTSHOT)</th>\n",
       "      <th>Free Falling (Eng Ver.)</th>\n",
       "      <td>10184</td>\n",
       "    </tr>\n",
       "    <tr>\n",
       "      <th>TIFFANY YOUNG</th>\n",
       "      <th>Run For Your Life</th>\n",
       "      <td>3134688</td>\n",
       "    </tr>\n",
       "    <tr>\n",
       "      <th>TXT</th>\n",
       "      <th>Cat &amp; Dog (English ver.)</th>\n",
       "      <td>11634989</td>\n",
       "    </tr>\n",
       "    <tr>\n",
       "      <th rowspan=\"2\" valign=\"top\">2020</th>\n",
       "      <th>BTS</th>\n",
       "      <th>Dynamite</th>\n",
       "      <td>982668564</td>\n",
       "    </tr>\n",
       "    <tr>\n",
       "      <th>MONSTA X</th>\n",
       "      <th>YOU CAN'T HOLD MY HEART</th>\n",
       "      <td>10374864</td>\n",
       "    </tr>\n",
       "  </tbody>\n",
       "</table>\n",
       "</div>"
      ],
      "text/plain": [
       "                                                                   Views\n",
       "Date Artist                Song Name                                    \n",
       "2009 WONDER GIRLS          Nobody                              100808977\n",
       "2010 WONDER GIRLS          2 Different Tears                     3502611\n",
       "2012 WONDER GIRLS          Like Money ft. Akon                  14364266\n",
       "                           The DJ Is Mine                        7698326\n",
       "2014 SPICA                 I Did It                              1852354\n",
       "2015 GIRLS' GENERATION-TTS Dear Santa (English ver.)             7080590\n",
       "2017 KARD                  Don't Recall (Hidden ver.)            7144374\n",
       "2018 HENRY                 Monster                               5164403\n",
       "     MINZY                 All Of You Say                         859464\n",
       "     NCT 127               Regular (English ver.)               66966579\n",
       "2019 MONSTA X              Someone's Someone                    23183802\n",
       "                           Who Do U Love feat. French Montana   37174451\n",
       "     NCT 127               Highway To Heaven                    35193166\n",
       "     SAN (HOTSHOT)         Free Falling (Eng Ver.)                 10184\n",
       "     TIFFANY YOUNG         Run For Your Life                     3134688\n",
       "     TXT                   Cat & Dog (English ver.)             11634989\n",
       "2020 BTS                   Dynamite                            982668564\n",
       "     MONSTA X              YOU CAN'T HOLD MY HEART              10374864"
      ]
     },
     "execution_count": 203,
     "metadata": {},
     "output_type": "execute_result"
    }
   ],
   "source": [
    "english = df[df.Release==\"English\"].groupby([df.Date.dt.year,\"Artist\",\"Song Name\"]).sum()\n",
    "english"
   ]
  },
  {
   "cell_type": "code",
   "execution_count": 204,
   "metadata": {},
   "outputs": [
    {
     "data": {
      "image/png": "[encoded data removed]",
      "text/plain": [
       "<Figure size 1152x576 with 1 Axes>"
      ]
     },
     "metadata": {
      "needs_background": "light"
     },
     "output_type": "display_data"
    }
   ],
   "source": [
    "df[df.Release==\"English\"].groupby(df.Date.dt.year).sum().plot.bar(title = \"Timeline of English Kpop music video\",ylabel=\"billion views\",rot=0)"
   ]
  },
  {
   "cell_type": "markdown",
   "metadata": {},
   "source": [
    "A new trend in Kpop industry is \"Go West, Young Men!\" Kpop has a relatively young history of making English music videos. There are only 18 Kpop music videos in English. 12 Kpop artists have made English Kpop music videos.\n",
    "The trend of English music videos is also interesting. It started in 2009 when Wonder Girls tried making English music videos and gained some views. The views declined from 2010 because Wonder Girls were unsuccessful in Western countries. It was difficult for Kpop to develop in Western world because of the tremendous cultural difference then. However, with the advent of BTS, Kpop suddenly became so success in Western world. Kpop starts getting attention on YouTube for their music videos from 2018, and skyrocketed in 2020, mostly because of BTS' hit song *Dynamite*. BTS already became a phenomenon across the globe."
   ]
  },
  {
   "cell_type": "code",
   "execution_count": 193,
   "metadata": {},
   "outputs": [
    {
     "data": {
      "text/html": [
       "<div>\n",
       "<style scoped>\n",
       "    .dataframe tbody tr th:only-of-type {\n",
       "        vertical-align: middle;\n",
       "    }\n",
       "\n",
       "    .dataframe tbody tr th {\n",
       "        vertical-align: top;\n",
       "    }\n",
       "\n",
       "    .dataframe thead th {\n",
       "        text-align: right;\n",
       "    }\n",
       "</style>\n",
       "<table border=\"1\" class=\"dataframe\">\n",
       "  <thead>\n",
       "    <tr style=\"text-align: right;\">\n",
       "      <th></th>\n",
       "      <th>Views</th>\n",
       "    </tr>\n",
       "    <tr>\n",
       "      <th>Artist</th>\n",
       "      <th></th>\n",
       "    </tr>\n",
       "  </thead>\n",
       "  <tbody>\n",
       "    <tr>\n",
       "      <th>BTS</th>\n",
       "      <td>982668564</td>\n",
       "    </tr>\n",
       "    <tr>\n",
       "      <th>WONDER GIRLS</th>\n",
       "      <td>126374180</td>\n",
       "    </tr>\n",
       "    <tr>\n",
       "      <th>NCT 127</th>\n",
       "      <td>102159745</td>\n",
       "    </tr>\n",
       "    <tr>\n",
       "      <th>MONSTA X</th>\n",
       "      <td>70733117</td>\n",
       "    </tr>\n",
       "    <tr>\n",
       "      <th>TXT</th>\n",
       "      <td>11634989</td>\n",
       "    </tr>\n",
       "  </tbody>\n",
       "</table>\n",
       "</div>"
      ],
      "text/plain": [
       "                  Views\n",
       "Artist                 \n",
       "BTS           982668564\n",
       "WONDER GIRLS  126374180\n",
       "NCT 127       102159745\n",
       "MONSTA X       70733117\n",
       "TXT            11634989"
      ]
     },
     "execution_count": 193,
     "metadata": {},
     "output_type": "execute_result"
    }
   ],
   "source": [
    "top5en = english.groupby([\"Artist\"]).sum().sort_values(by=\"Views\", ascending=False).head(5)\n",
    "top5en"
   ]
  },
  {
   "cell_type": "code",
   "execution_count": 205,
   "metadata": {},
   "outputs": [
    {
     "data": {
      "image/png": "[encoded data removed]",
      "text/plain": [
       "<Figure size 1152x576 with 1 Axes>"
      ]
     },
     "metadata": {
      "needs_background": "light"
     },
     "output_type": "display_data"
    }
   ],
   "source": [
    "top5en.plot.bar(title=\"TOP 5 Kpop groups with most viewed English music videos\",rot=0,ylabel=\"billion views\")"
   ]
  },
  {
   "cell_type": "markdown",
   "metadata": {},
   "source": [
    "TOP 5 Kpop groups with most viewed English music videos are BTS, Wonder Girls, NCT 127, Monsta X and TXT. Among them, BTS is way beyond the rest 4 of them. However, there is a great challenge for Kpop's success in Western world in future. BTS' members will have to serve Korean military from 2022. Therefore, their group activity will be in hiatus since then. Will other Kpop artists take up BTS' mantle in Western world and keep Kpop popular across the world? Or will BTS' members solo activities be popular when other members are in the military service? We need to wait and see how Kpop develops in the future 4th generation."
   ]
  }
 ],
 "metadata": {
  "kernelspec": {
   "display_name": "Python 3",
   "language": "python",
   "name": "python3"
  },
  "language_info": {
   "codemirror_mode": {
    "name": "ipython",
    "version": 3
   },
   "file_extension": ".py",
   "mimetype": "text/x-python",
   "name": "python",
   "nbconvert_exporter": "python",
   "pygments_lexer": "ipython3",
   "version": "3.9.0"
  }
 },
 "nbformat": 4,
 "nbformat_minor": 4
}
